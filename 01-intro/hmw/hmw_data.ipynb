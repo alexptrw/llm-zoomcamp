{
 "cells": [
  {
   "cell_type": "code",
   "execution_count": 1,
   "id": "92189106-2e4b-4437-a7e6-4e544f805327",
   "metadata": {},
   "outputs": [],
   "source": [
    "import requests \n",
    "\n",
    "docs_url = 'https://github.com/DataTalksClub/llm-zoomcamp/blob/main/01-intro/documents.json?raw=1'\n",
    "docs_response = requests.get(docs_url)\n",
    "documents_raw = docs_response.json()\n",
    "\n",
    "documents = []\n",
    "\n",
    "for course in documents_raw:\n",
    "    course_name = course['course']\n",
    "\n",
    "    for doc in course['documents']:\n",
    "        doc['course'] = course_name\n",
    "        documents.append(doc)"
   ]
  },
  {
   "cell_type": "code",
   "execution_count": 8,
   "id": "daf6b072-1f00-4a02-a73b-6d08bc13163a",
   "metadata": {},
   "outputs": [
    {
     "name": "stdout",
     "output_type": "stream",
     "text": [
      "Requirement already satisfied: elasticsearch in /usr/local/python/3.12.1/lib/python3.12/site-packages (8.18.1)\n",
      "Requirement already satisfied: elastic-transport<9,>=8.15.1 in /usr/local/python/3.12.1/lib/python3.12/site-packages (from elasticsearch) (8.17.1)\n",
      "Requirement already satisfied: python-dateutil in /home/codespace/.local/lib/python3.12/site-packages (from elasticsearch) (2.9.0.post0)\n",
      "Requirement already satisfied: typing-extensions in /home/codespace/.local/lib/python3.12/site-packages (from elasticsearch) (4.12.2)\n",
      "Requirement already satisfied: urllib3<3,>=1.26.2 in /home/codespace/.local/lib/python3.12/site-packages (from elastic-transport<9,>=8.15.1->elasticsearch) (2.3.0)\n",
      "Requirement already satisfied: certifi in /home/codespace/.local/lib/python3.12/site-packages (from elastic-transport<9,>=8.15.1->elasticsearch) (2025.1.31)\n",
      "Requirement already satisfied: six>=1.5 in /home/codespace/.local/lib/python3.12/site-packages (from python-dateutil->elasticsearch) (1.17.0)\n",
      "\n",
      "\u001b[1m[\u001b[0m\u001b[34;49mnotice\u001b[0m\u001b[1;39;49m]\u001b[0m\u001b[39;49m A new release of pip is available: \u001b[0m\u001b[31;49m25.0.1\u001b[0m\u001b[39;49m -> \u001b[0m\u001b[32;49m25.1.1\u001b[0m\n",
      "\u001b[1m[\u001b[0m\u001b[34;49mnotice\u001b[0m\u001b[1;39;49m]\u001b[0m\u001b[39;49m To update, run: \u001b[0m\u001b[32;49mpython3 -m pip install --upgrade pip\u001b[0m\n"
     ]
    }
   ],
   "source": [
    "!pip install elasticsearch"
   ]
  },
  {
   "cell_type": "code",
   "execution_count": 9,
   "id": "9e45637f-2661-4f2b-b551-fcb756eac39b",
   "metadata": {},
   "outputs": [],
   "source": [
    "from elasticsearch import Elasticsearch"
   ]
  },
  {
   "cell_type": "code",
   "execution_count": 12,
   "id": "18949809-5d31-4e8a-83b8-332cc7cf4454",
   "metadata": {},
   "outputs": [],
   "source": [
    "es = Elasticsearch(\"http://localhost:9200\")\n",
    "index_name = 'courses'"
   ]
  },
  {
   "cell_type": "code",
   "execution_count": 24,
   "id": "2c4d7ad0-01a0-4a94-a4b9-99164f6cf35b",
   "metadata": {},
   "outputs": [],
   "source": [
    "for i, doc in enumerate(documents):\n",
    "    es.index(index=index_name, id=i, document=doc)"
   ]
  },
  {
   "cell_type": "code",
   "execution_count": 25,
   "id": "112ee068-5b08-4f7a-87b4-2ca0ea65115b",
   "metadata": {},
   "outputs": [],
   "source": [
    "q = \"How do execute a command on a Kubernetes pod?\""
   ]
  },
  {
   "cell_type": "code",
   "execution_count": 62,
   "id": "909f6962-ba54-492d-ada3-003dbfd17d0e",
   "metadata": {},
   "outputs": [],
   "source": [
    "search_query = {\n",
    "    \"size\": 5,\n",
    "    \"query\": {\n",
    "        \"bool\": {\n",
    "            \"must\": {\n",
    "                \"multi_match\": {\n",
    "                    \"query\": q,\n",
    "                    \"fields\": [\"question^4\", \"text\"],\n",
    "                    \"type\": \"best_fields\"\n",
    "                }\n",
    "            }\n",
    "        }\n",
    "    }\n",
    "}\n"
   ]
  },
  {
   "cell_type": "code",
   "execution_count": 58,
   "id": "e85feea2-f0af-4bc4-be8d-b57cae452f56",
   "metadata": {},
   "outputs": [],
   "source": [
    "response = es.search(index=index_name, body=search_query)"
   ]
  },
  {
   "cell_type": "code",
   "execution_count": 59,
   "id": "f452e0a8-1a4c-4a6b-a433-df1e66561ce0",
   "metadata": {},
   "outputs": [],
   "source": [
    "hits = response['hits']['hits']"
   ]
  },
  {
   "cell_type": "code",
   "execution_count": 60,
   "id": "385e10a7-297b-4575-883c-eb09c40f4194",
   "metadata": {},
   "outputs": [
    {
     "data": {
      "text/plain": [
       "44.50556"
      ]
     },
     "execution_count": 60,
     "metadata": {},
     "output_type": "execute_result"
    }
   ],
   "source": [
    "response['hits']['max_score']"
   ]
  },
  {
   "cell_type": "code",
   "execution_count": 64,
   "id": "7408d782-521f-45b7-b5c3-9133ef1ebe6a",
   "metadata": {},
   "outputs": [],
   "source": [
    "query = \"How do copy a file to a Docker container?\""
   ]
  },
  {
   "cell_type": "code",
   "execution_count": 120,
   "id": "1be32edc-75c3-4bcf-bffb-f62db1338596",
   "metadata": {},
   "outputs": [],
   "source": [
    "search_query = {\n",
    "    \"size\": 3,\n",
    "    \"query\": {\n",
    "        \"bool\": {\n",
    "            \"must\": {\n",
    "                \"multi_match\": {\n",
    "                    \"query\": query,\n",
    "                    \"fields\": [\"question^4\", \"text\"],\n",
    "                    \"type\": \"best_fields\"\n",
    "                }\n",
    "                },\n",
    "                \"filter\": {\n",
    "                    \"match\": {\n",
    "                        \"course\": \"machine-learning-zoomcamp\"\n",
    "                    }\n",
    "                }\n",
    "            }\n",
    "        }\n",
    "    }"
   ]
  },
  {
   "cell_type": "code",
   "execution_count": 121,
   "id": "21d966c7-e788-45f2-b3a7-8cc34dd844fe",
   "metadata": {},
   "outputs": [],
   "source": [
    "response = es.search(index=index_name, body=search_query)"
   ]
  },
  {
   "cell_type": "code",
   "execution_count": 122,
   "id": "aa0df165-ceed-4cb9-9daf-a4f3e7706e53",
   "metadata": {},
   "outputs": [],
   "source": [
    "hits = response['hits']['hits']"
   ]
  },
  {
   "cell_type": "code",
   "execution_count": 123,
   "id": "37f3f98d-72d1-4883-8b1f-a528f220013c",
   "metadata": {},
   "outputs": [],
   "source": [
    "hit_dics = {}"
   ]
  },
  {
   "cell_type": "code",
   "execution_count": 124,
   "id": "d86f5b6b-84e0-44e9-bbbc-6a4f4825a40c",
   "metadata": {},
   "outputs": [],
   "source": [
    "#my approach finding the 3rd question\n",
    "for hit in hits:\n",
    "    hit_dics[hit[\"_score\"]] = hit"
   ]
  },
  {
   "cell_type": "code",
   "execution_count": 148,
   "id": "00f6770c-e76b-418f-bd28-13d07e7c6d4e",
   "metadata": {},
   "outputs": [
    {
     "data": {
      "text/plain": [
       "(59.812744,\n",
       " {'_index': 'courses',\n",
       "  '_id': '636',\n",
       "  '_score': 59.812744,\n",
       "  '_ignored': ['text.keyword'],\n",
       "  '_source': {'text': 'You can copy files from your local machine into a Docker container using the docker cp command. Here\\'s how to do it:\\nIn the Dockerfile, you can provide the folder containing the files that you want to copy over. The basic syntax is as follows:\\nCOPY [\"src/predict.py\", \"models/xgb_model.bin\", \"./\"]\\t\\t\\t\\t\\t\\t\\t\\t\\t\\t\\tGopakumar Gopinathan',\n",
       "   'section': '5. Deploying Machine Learning Models',\n",
       "   'question': 'How do I copy files from a different folder into docker container’s working directory?',\n",
       "   'course': 'machine-learning-zoomcamp'}})"
      ]
     },
     "execution_count": 148,
     "metadata": {},
     "output_type": "execute_result"
    }
   ],
   "source": [
    "sorted(hit_dics.items(), key=lambda x: -x[0])[-1]"
   ]
  },
  {
   "cell_type": "code",
   "execution_count": 146,
   "id": "8170e8f5-819b-497f-96ba-4b8e21e1296d",
   "metadata": {},
   "outputs": [
    {
     "data": {
      "text/plain": [
       "'How do I copy files from a different folder into docker container’s working directory?'"
      ]
     },
     "execution_count": 146,
     "metadata": {},
     "output_type": "execute_result"
    }
   ],
   "source": [
    "#what i should have done :D\n",
    "hits[-1]['_source']['question']"
   ]
  },
  {
   "cell_type": "code",
   "execution_count": 170,
   "id": "b3ff18a1-0e21-4cb5-b904-4844c9c4c8c2",
   "metadata": {},
   "outputs": [
    {
     "data": {
      "text/plain": [
       "'section: 5. Deploying Machine Learning Models\\n\\nquestion: How do I debug a docker container?\\n\\nanswer: Launch the container image in interactive mode and overriding the entrypoint, so that it starts a bash command.\\ndocker run -it --entrypoint bash <image>\\nIf the container is already running, execute a command in the specific container:\\ndocker ps (find the container-id)\\ndocker exec -it <container-id> bash\\n(Marcos MJD)\\n\\nsection: 5. Deploying Machine Learning Models\\n\\nquestion: How do I copy files from my local machine to docker container?\\n\\nanswer: You can copy files from your local machine into a Docker container using the docker cp command. Here\\'s how to do it:\\nTo copy a file or directory from your local machine into a running Docker container, you can use the `docker cp command`. The basic syntax is as follows:\\ndocker cp /path/to/local/file_or_directory container_id:/path/in/container\\nHrithik Kumar Advani\\n\\nsection: 5. Deploying Machine Learning Models\\n\\nquestion: How do I copy files from a different folder into docker container’s working directory?\\n\\nanswer: You can copy files from your local machine into a Docker container using the docker cp command. Here\\'s how to do it:\\nIn the Dockerfile, you can provide the folder containing the files that you want to copy over. The basic syntax is as follows:\\nCOPY [\"src/predict.py\", \"models/xgb_model.bin\", \"./\"]\\t\\t\\t\\t\\t\\t\\t\\t\\t\\t\\tGopakumar Gopinathan\\n\\n'"
      ]
     },
     "execution_count": 170,
     "metadata": {},
     "output_type": "execute_result"
    }
   ],
   "source": [
    "prompt_template = \"\"\"\n",
    "You're a course teaching assistant. Answer the QUESTION based on the CONTEXT from the FAQ database.\n",
    "Use only the facts from the CONTEXT when answering the QUESTION.\n",
    "\n",
    "QUESTION: {question}\n",
    "\n",
    "CONTEXT:\n",
    "{context}\n",
    "\"\"\".strip()\n",
    "context = \"\"\n",
    "\n",
    "for hit in response['hits']['hits']:\n",
    "    doc = hit['_source']\n",
    "    context += f\"section: {doc['section']}\\n\\nquestion: {doc['question']}\\n\\nanswer: {doc['text']}\\n\\n\"\n",
    "context"
   ]
  },
  {
   "cell_type": "code",
   "execution_count": 171,
   "id": "8c24296e-4f60-49dd-a75c-4cd9ed0a5439",
   "metadata": {},
   "outputs": [],
   "source": [
    "q = \"How do I execute a command in a running docker container?\"\n",
    "prompt = prompt_template.format(question=q, context=context).strip()"
   ]
  },
  {
   "cell_type": "code",
   "execution_count": 172,
   "id": "4ecfe85b-b807-4f80-95f6-35ff25c5deb5",
   "metadata": {},
   "outputs": [
    {
     "data": {
      "text/plain": [
       "1642"
      ]
     },
     "execution_count": 172,
     "metadata": {},
     "output_type": "execute_result"
    }
   ],
   "source": [
    "len(prompt)"
   ]
  },
  {
   "cell_type": "code",
   "execution_count": 179,
   "id": "2da828cb-ca13-45ba-b0c1-b0e552428208",
   "metadata": {},
   "outputs": [],
   "source": [
    "from google import genai\n",
    "import os\n"
   ]
  },
  {
   "cell_type": "code",
   "execution_count": 181,
   "id": "41c07688-47bd-41e8-915d-eb23a92e0c64",
   "metadata": {},
   "outputs": [
    {
     "data": {
      "text/plain": [
       "CountTokensResponse(total_tokens=390, cached_content_token_count=None)"
      ]
     },
     "execution_count": 181,
     "metadata": {},
     "output_type": "execute_result"
    }
   ],
   "source": [
    "api_key = os.getenv(\"GEMINI_API_KEY\")\n",
    "client = genai.Client(api_key=api_key)\n",
    "client.models.count_tokens(\n",
    "    model=\"gemini-2.0-flash\", contents=prompt\n",
    ")"
   ]
  },
  {
   "cell_type": "code",
   "execution_count": 239,
   "id": "38c8299b-0e45-4226-a047-8cf33374d142",
   "metadata": {},
   "outputs": [],
   "source": [
    "def search(query):\n",
    "    index_name = 'courses'\n",
    "    for i, doc in enumerate(documents):\n",
    "        es.index(index=index_name, id=i, document=doc)\n",
    "    search_query = {\n",
    "        \"size\": 5,\n",
    "        \"query\": {\n",
    "            \"bool\": {\n",
    "                \"must\": {\n",
    "                    \"multi_match\": {\n",
    "                        \"query\": query,\n",
    "                        \"fields\": [\"question^4\", \"text\"],\n",
    "                        \"type\": \"best_fields\"\n",
    "                    }\n",
    "                }\n",
    "            }\n",
    "        }\n",
    "    }\n",
    "    return es.search(index=index_name, body=search_query)\n"
   ]
  },
  {
   "cell_type": "code",
   "execution_count": 240,
   "id": "14c07483-3f29-4c67-9402-46304e3bfa93",
   "metadata": {},
   "outputs": [],
   "source": [
    "def build_prompt(query, search_results):\n",
    "    prompt_template = \"\"\"\n",
    "    You're a course teaching assistant. Answer the QUESTION based on the CONTEXT from the FAQ database.\n",
    "    Use only the facts from the CONTEXT when answering the QUESTION.\n",
    "    \n",
    "    QUESTION: {question}\n",
    "    \n",
    "    CONTEXT:\n",
    "    {context}\n",
    "    \"\"\".strip()\n",
    "    context = \"\"\n",
    "    \n",
    "    for hit in search_results['hits']['hits']:\n",
    "        doc = hit['_source']\n",
    "        context += f\"section: {doc['section']}\\n\\nquestion: {doc['question']}\\n\\nanswer: {doc['text']}\\n\\n\"\n",
    "    prompt = prompt_template.format(question=query, context=context).strip()\n",
    "    return prompt"
   ]
  },
  {
   "cell_type": "code",
   "execution_count": 241,
   "id": "7f243d68-00f1-4c94-872e-e859bb0103ad",
   "metadata": {},
   "outputs": [],
   "source": [
    "def llm(prompt):\n",
    "    api_key = os.getenv(\"GEMINI_API_KEY\")\n",
    "    client = genai.Client(api_key=api_key)\n",
    "    response = client.models.generate_content(\n",
    "        model=\"gemini-2.0-flash\",\n",
    "        contents=prompt\n",
    "    )\n",
    "    return response.text\n",
    "    "
   ]
  },
  {
   "cell_type": "code",
   "execution_count": 242,
   "id": "f3a866c3-eff0-4746-b1b3-eabf28f5443d",
   "metadata": {},
   "outputs": [],
   "source": [
    "def rag(query):\n",
    "    search_results = search(query)\n",
    "    prompt = build_prompt(query, search_results)\n",
    "    answer = llm(prompt)\n",
    "    return answer"
   ]
  },
  {
   "cell_type": "code",
   "execution_count": 252,
   "id": "6b0ee455-3c1a-494c-b110-9ee16b6addda",
   "metadata": {},
   "outputs": [],
   "source": [
    "query = \"How do I debug a docker container?\"\n",
    "output = rag(query)"
   ]
  },
  {
   "cell_type": "code",
   "execution_count": 261,
   "id": "1d554121-f1f7-49e2-bab2-3e7b5a77a59f",
   "metadata": {},
   "outputs": [
    {
     "data": {
      "text/plain": [
       "'To debug a docker container, launch the container image in interactive mode and override the entrypoint so that it starts a bash command: `docker run -it --entrypoint bash <image>`. If the container is already running, find the container ID using `docker ps` and then execute a command in the container: `docker exec -it <container-id> bash`.\\n'"
      ]
     },
     "execution_count": 261,
     "metadata": {},
     "output_type": "execute_result"
    }
   ],
   "source": [
    "output"
   ]
  },
  {
   "cell_type": "code",
   "execution_count": null,
   "id": "7d78fb47-6adb-4e38-ae26-c1cf6da9f9bb",
   "metadata": {},
   "outputs": [],
   "source": []
  }
 ],
 "metadata": {
  "kernelspec": {
   "display_name": "Python 3 (ipykernel)",
   "language": "python",
   "name": "python3"
  },
  "language_info": {
   "codemirror_mode": {
    "name": "ipython",
    "version": 3
   },
   "file_extension": ".py",
   "mimetype": "text/x-python",
   "name": "python",
   "nbconvert_exporter": "python",
   "pygments_lexer": "ipython3",
   "version": "3.12.1"
  }
 },
 "nbformat": 4,
 "nbformat_minor": 5
}
